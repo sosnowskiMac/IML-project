{
 "cells": [
  {
   "cell_type": "code",
   "execution_count": 1,
   "id": "bdf63b5d-208a-4676-b032-13498472db15",
   "metadata": {
    "colab": {
     "base_uri": "https://localhost:8080/",
     "height": 211
    },
    "id": "bdf63b5d-208a-4676-b032-13498472db15",
    "outputId": "07aa89a6-d433-4284-9502-63c8798a01d3"
   },
   "outputs": [
    {
     "name": "stderr",
     "output_type": "stream",
     "text": [
      "D:\\anaconda3\\Lib\\site-packages\\paramiko\\pkey.py:82: CryptographyDeprecationWarning: TripleDES has been moved to cryptography.hazmat.decrepit.ciphers.algorithms.TripleDES and will be removed from this module in 48.0.0.\n",
      "  \"cipher\": algorithms.TripleDES,\n",
      "D:\\anaconda3\\Lib\\site-packages\\paramiko\\transport.py:219: CryptographyDeprecationWarning: Blowfish has been moved to cryptography.hazmat.decrepit.ciphers.algorithms.Blowfish and will be removed from this module in 45.0.0.\n",
      "  \"class\": algorithms.Blowfish,\n",
      "D:\\anaconda3\\Lib\\site-packages\\paramiko\\transport.py:243: CryptographyDeprecationWarning: TripleDES has been moved to cryptography.hazmat.decrepit.ciphers.algorithms.TripleDES and will be removed from this module in 48.0.0.\n",
      "  \"class\": algorithms.TripleDES,\n"
     ]
    }
   ],
   "source": [
    "import os\n",
    "import matplotlib.pyplot as plt\n",
    "from scipy.io import wavfile\n",
    "import numpy as np\n",
    "import pandas as pd\n",
    "import librosa\n",
    "import skimage.io\n",
    "import shutil\n",
    "import random\n",
    "import soundfile as sf\n",
    "\n",
    "directories = [\n",
    "    '../daps/clean/',\n",
    "    '../daps/cleanraw/',\n",
    "    '../daps/ipad_balcony1/',\n",
    "    '../daps/ipad_bedroom1/',\n",
    "    '../daps/ipad_confroom1/',\n",
    "    '../daps/ipad_confroom2/',\n",
    "    '../daps/ipad_livingroom1/',\n",
    "    '../daps/ipad_office1/',\n",
    "    '../daps/ipad_office2/',\n",
    "    '../daps/ipadflat_confroom1/',\n",
    "    '../daps/ipadflat_office1/',\n",
    "    '../daps/iphone_balcony1/',\n",
    "    '../daps/iphone_bedroom1/',\n",
    "    '../daps/iphone_livingroom1/',\n",
    "    '../daps/produced/'\n",
    "]\n",
    "class_one = ['f1', 'f7', 'f8', 'm3', 'm6', 'm8']\n",
    "destination_class_one = '../audio/1'\n",
    "destination_class_zero = '../audio/0'\n",
    "def class_audio():\n",
    "  os.makedirs(destination_class_one, exist_ok=True)\n",
    "  os.makedirs(destination_class_zero, exist_ok=True)\n",
    "\n",
    "  for directory in directories:\n",
    "      for filename in os.listdir(directory):\n",
    "          if filename.startswith('.'):\n",
    "              continue\n",
    "          if filename.endswith('.wav'):\n",
    "              filepath = os.path.join(directory, filename)\n",
    "\n",
    "              try:\n",
    "                  if any(identifier in filename for identifier in class_one):\n",
    "                      shutil.move(filepath, os.path.join(destination_class_one, filename))\n",
    "                  else:\n",
    "                      shutil.move(filepath, os.path.join(destination_class_zero, filename))\n",
    "\n",
    "\n",
    "              except ValueError as e:\n",
    "                  print(f\"Error reading {filename}: {e}\")\n",
    "              except Exception as e:\n",
    "                  print(f\"An unexpected error occurred with {filename}: {e}\")\n",
    "\n",
    "\n",
    "def augment_audio(file_path, output_dir, augment_index):\n",
    "  y, sr = librosa.load(file_path, sr=None)\n",
    "\n",
    "  volume_factor = random.uniform(0.8, 1.2)  # Adjust volume by 80% to 120%\n",
    "  y = y * volume_factor\n",
    "\n",
    "  time_stretch_rate = random.uniform(0.9, 1.1)  # Stretch rate between 90% and 110%\n",
    "  y = librosa.effects.time_stretch(y, rate=time_stretch_rate)\n",
    "\n",
    "  pitch_steps = random.choice([-2, -1, 1, 2])  # Shift pitch by ±1 or ±2 semitones\n",
    "  y = librosa.effects.pitch_shift(y, sr=sr, n_steps=pitch_steps)\n",
    "\n",
    "  base_name = os.path.splitext(os.path.basename(file_path))[0]\n",
    "  output_path = os.path.join(output_dir, f\"{base_name}_aug_all_{augment_index}.wav\")\n",
    "  sf.write(output_path, y, sr)\n",
    "\n",
    "\n",
    "\n",
    "num_files_class_one = len(os.listdir(destination_class_one))\n",
    "num_files_class_zero = len(os.listdir(destination_class_zero))\n",
    "num_augmentations_needed = num_files_class_zero - num_files_class_one\n",
    "\n",
    "file_list_class_one = os.listdir(destination_class_one)\n",
    "\n",
    "for i in range(num_augmentations_needed):\n",
    "  file_to_augment = random.choice(file_list_class_one)\n",
    "  file_path = os.path.join(destination_class_one, file_to_augment)\n",
    "\n",
    "  augment_audio(file_path, destination_class_one, i)"
   ]
  },
  {
   "cell_type": "code",
   "execution_count": null,
   "id": "6a607960-c644-4a78-968e-e88e223552bd",
   "metadata": {
    "id": "6a607960-c644-4a78-968e-e88e223552bd"
   },
   "outputs": [],
   "source": []
  }
 ],
 "metadata": {
  "colab": {
   "provenance": []
  },
  "kernelspec": {
   "display_name": "Python 3 (ipykernel)",
   "language": "python",
   "name": "python3"
  },
  "language_info": {
   "codemirror_mode": {
    "name": "ipython",
    "version": 3
   },
   "file_extension": ".py",
   "mimetype": "text/x-python",
   "name": "python",
   "nbconvert_exporter": "python",
   "pygments_lexer": "ipython3",
   "version": "3.12.7"
  }
 },
 "nbformat": 4,
 "nbformat_minor": 5
}
