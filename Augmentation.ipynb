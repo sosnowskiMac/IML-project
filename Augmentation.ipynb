{
 "cells": [
  {
   "cell_type": "code",
   "execution_count": 6,
   "id": "bdf63b5d-208a-4676-b032-13498472db15",
   "metadata": {},
   "outputs": [],
   "source": [
    "import os\n",
    "import matplotlib.pyplot as plt\n",
    "from scipy.io import wavfile\n",
    "import noisereduce\n",
    "import numpy as np\n",
    "import pandas as pd\n",
    "import librosa\n",
    "import skimage.io\n",
    "import shutil\n",
    "\n",
    "\n",
    "directories = [\n",
    "    '../daps/clean/',\n",
    "    '../daps/cleanraw/',\n",
    "    '../daps/ipad_balcony1/',\n",
    "    '../daps/ipad_bedroom1/',\n",
    "    '../daps/ipad_confroom1/',\n",
    "    '../daps/ipad_confroom2/',\n",
    "    '../daps/ipad_livingroom1/',\n",
    "    '../daps/ipad_office1/',\n",
    "    '../daps/ipad_office2/',\n",
    "    '../daps/ipadflat_confroom1/',\n",
    "    '../daps/ipadflat_office1/',\n",
    "    '../daps/iphone_balcony1/',\n",
    "    '../daps/iphone_bedroom1/',\n",
    "    '../daps/iphone_livingroom1/',\n",
    "    '../daps/produced/'\n",
    "]\n",
    "class_one = ['f1', 'f7', 'f8', 'm3', 'm6', 'm8']\n",
    "\n",
    "destination_class_one = '../audio/1'\n",
    "destination_class_zero = '../audio/0'\n",
    "\n",
    "os.makedirs(destination_class_one, exist_ok=True)\n",
    "os.makedirs(destination_class_zero, exist_ok=True)\n",
    "\n",
    "for directory in directories:\n",
    "    for filename in os.listdir(directory):\n",
    "        if filename.startswith('.'):\n",
    "            continue\n",
    "        if filename.endswith('.wav'):\n",
    "            filepath = os.path.join(directory, filename)\n",
    "            \n",
    "            try:\n",
    "                if any(identifier in filename for identifier in class_one):\n",
    "                    shutil.move(filepath, os.path.join(destination_class_one, filename))\n",
    "                else:\n",
    "                    shutil.move(filepath, os.path.join(destination_class_zero, filename))\n",
    "\n",
    "\n",
    "            except ValueError as e:\n",
    "                print(f\"Error reading {filename}: {e}\")\n",
    "            except Exception as e:\n",
    "                print(f\"An unexpected error occurred with {filename}: {e}\")"
   ]
  },
  {
   "cell_type": "code",
   "execution_count": null,
   "id": "6a607960-c644-4a78-968e-e88e223552bd",
   "metadata": {},
   "outputs": [],
   "source": []
  }
 ],
 "metadata": {
  "kernelspec": {
   "display_name": "Python 3 (ipykernel)",
   "language": "python",
   "name": "python3"
  },
  "language_info": {
   "codemirror_mode": {
    "name": "ipython",
    "version": 3
   },
   "file_extension": ".py",
   "mimetype": "text/x-python",
   "name": "python",
   "nbconvert_exporter": "python",
   "pygments_lexer": "ipython3",
   "version": "3.12.6"
  }
 },
 "nbformat": 4,
 "nbformat_minor": 5
}
